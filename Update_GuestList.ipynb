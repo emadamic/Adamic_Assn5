{
 "metadata": {
  "language_info": {
   "codemirror_mode": {
    "name": "ipython",
    "version": 3
   },
   "file_extension": ".py",
   "mimetype": "text/x-python",
   "name": "python",
   "nbconvert_exporter": "python",
   "pygments_lexer": "ipython3",
   "version": "3.8.2-final"
  },
  "orig_nbformat": 2,
  "kernelspec": {
   "name": "Python 3.8.2 64-bit",
   "display_name": "Python 3.8.2 64-bit",
   "metadata": {
    "interpreter": {
     "hash": "31f2aee4e71d21fbe5cf8b01ff0e069b9275f58929596ceb00d14d90e3e16cd6"
    }
   }
  }
 },
 "nbformat": 4,
 "nbformat_minor": 2,
 "cells": [
  {
   "source": [
    "# Part 3\n",
    "This script creates the updated guest list file, appending the new guests & their veg preferences to the old guest list. "
   ],
   "cell_type": "markdown",
   "metadata": {}
  },
  {
   "cell_type": "code",
   "execution_count": 2,
   "metadata": {},
   "outputs": [],
   "source": [
    "# open original file (with special characters)\n",
    "with open('guest_list.txt') as fob:\n",
    "    guest_list = fob.readlines()"
   ]
  },
  {
   "cell_type": "code",
   "execution_count": 3,
   "metadata": {},
   "outputs": [],
   "source": [
    "# make a list of the new people & their veg statuses (with special characters)\n",
    "new_peeps = ['Larry\\tNo\\n', 'Moe\\tYes\\n', 'Curly\\tSometimes\\n']\n"
   ]
  },
  {
   "cell_type": "code",
   "execution_count": 5,
   "metadata": {
    "tags": []
   },
   "outputs": [],
   "source": [
    "# put the old with the new (with special characters)\n",
    "updated_guest_list = guest_list + new_peeps"
   ]
  },
  {
   "cell_type": "code",
   "execution_count": 7,
   "metadata": {},
   "outputs": [],
   "source": [
    "# write as a new text file, to later be inputted into the other script \n",
    "updated_filename = 'updated_guest_list.txt'\n",
    "\n",
    "with open(updated_filename, 'w') as fob: \n",
    "    for line in updated_guest_list: \n",
    "        fob.write(line)"
   ]
  }
 ]
}